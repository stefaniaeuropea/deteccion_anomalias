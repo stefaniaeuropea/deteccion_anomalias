{
  "nbformat": 4,
  "nbformat_minor": 0,
  "metadata": {
    "colab": {
      "name": "Generacion Deteccion_anomalias_TimeSeries_15min_IsolationForest.ipynb",
      "provenance": [],
      "collapsed_sections": []
    },
    "kernelspec": {
      "name": "python3",
      "display_name": "Python 3"
    },
    "language_info": {
      "name": "python"
    }
  },
  "cells": [
    {
      "cell_type": "code",
      "execution_count": null,
      "metadata": {
        "id": "mOxQX5tZPtF_",
        "colab": {
          "base_uri": "https://localhost:8080/"
        },
        "outputId": "4b021710-2669-43c9-ce67-bf8f7e2b5621"
      },
      "outputs": [
        {
          "output_type": "stream",
          "name": "stdout",
          "text": [
            "Mounted at /content/drive\n"
          ]
        }
      ],
      "source": [
        "from google.colab import drive\n",
        "drive.mount('/content/drive')"
      ]
    },
    {
      "cell_type": "code",
      "source": [
        "#libraries \n",
        "#%matplotlib notebook\n",
        "import plotly.express as px\n",
        "import pandas as pd\n",
        "import numpy as np\n",
        "import seaborn\n",
        "import statsmodels.api as sm \n",
        "from sklearn.preprocessing import StandardScaler\n",
        "from sklearn.preprocessing import MinMaxScaler\n",
        "from sklearn.decomposition import PCA\n",
        "from sklearn.cluster import KMeans\n",
        "from sklearn.covariance import EllipticEnvelope\n",
        "from sklearn.ensemble import IsolationForest\n"
      ],
      "metadata": {
        "id": "FZO1FQV8QJir",
        "colab": {
          "base_uri": "https://localhost:8080/"
        },
        "outputId": "fd5c6290-e2c1-4996-e14d-1a787473fb7e"
      },
      "execution_count": null,
      "outputs": [
        {
          "output_type": "stream",
          "name": "stderr",
          "text": [
            "/usr/local/lib/python3.7/dist-packages/statsmodels/tools/_testing.py:19: FutureWarning: pandas.util.testing is deprecated. Use the functions in the public API at pandas.testing instead.\n",
            "  import pandas.util.testing as tm\n"
          ]
        }
      ]
    },
    {
      "cell_type": "markdown",
      "source": [
        "LECTURA DE DATOS\n"
      ],
      "metadata": {
        "id": "n-CuZbHwYE7h"
      }
    },
    {
      "cell_type": "code",
      "source": [
        "URL = 'https://drive.google.com/file/d/1ImirryRX-CqFYhQxtNO7s3NLMirfgdlx/view?usp=sharing'\n",
        "path = 'https://drive.google.com/uc?export=download&id='+URL.split('/')[-2]\n",
        "\n",
        "df = pd.read_csv(path,delimiter=';',parse_dates=['DateObserved'])\n",
        "#filename = ''\n",
        "#df = pd.read_csv(filename, delimiter = ',', parse_dates=['DateObserved'])\n",
        "df.head(10)"
      ],
      "metadata": {
        "colab": {
          "base_uri": "https://localhost:8080/",
          "height": 363
        },
        "id": "HsPgl-ZuYHKg",
        "outputId": "e15a3ff5-b720-4f32-9142-b2cbd4dbe0e0"
      },
      "execution_count": null,
      "outputs": [
        {
          "output_type": "execute_result",
          "data": {
            "text/plain": [
              "       Id   Machine              DateStr        DateObserved     H     V    C\n",
              "0  921880  Batidora  01/09/2018 13:39:16 2018-09-01 13:39:16  0.18  0.14  0.1\n",
              "1  921881  Batidora  01/09/2018 13:39:46 2018-09-01 13:39:46  0.17  0.15  0.1\n",
              "2  921882  Batidora  01/09/2018 13:40:15 2018-09-01 13:40:15  0.17  0.17  0.1\n",
              "3  921883  Batidora  01/09/2018 13:42:56 2018-09-01 13:42:56  0.17  0.16  0.1\n",
              "4  921884  Batidora  01/09/2018 13:43:26 2018-09-01 13:43:26  0.17  0.19  0.1\n",
              "5  921885  Batidora  01/09/2018 13:43:56 2018-09-01 13:43:56  0.20  0.18  0.1\n",
              "6  921886  Batidora  01/09/2018 13:44:26 2018-09-01 13:44:26  0.18  0.17  0.1\n",
              "7  921887  Batidora  01/09/2018 13:44:55 2018-09-01 13:44:55  0.18  0.17  0.1\n",
              "8  921888  Batidora  01/09/2018 13:45:25 2018-09-01 13:45:25  0.22  0.16  0.1\n",
              "9  921889  Batidora  01/09/2018 13:45:55 2018-09-01 13:45:55  0.18  0.16  0.1"
            ],
            "text/html": [
              "\n",
              "  <div id=\"df-efd8077a-64e5-424d-a8d1-6d660e85a322\">\n",
              "    <div class=\"colab-df-container\">\n",
              "      <div>\n",
              "<style scoped>\n",
              "    .dataframe tbody tr th:only-of-type {\n",
              "        vertical-align: middle;\n",
              "    }\n",
              "\n",
              "    .dataframe tbody tr th {\n",
              "        vertical-align: top;\n",
              "    }\n",
              "\n",
              "    .dataframe thead th {\n",
              "        text-align: right;\n",
              "    }\n",
              "</style>\n",
              "<table border=\"1\" class=\"dataframe\">\n",
              "  <thead>\n",
              "    <tr style=\"text-align: right;\">\n",
              "      <th></th>\n",
              "      <th>Id</th>\n",
              "      <th>Machine</th>\n",
              "      <th>DateStr</th>\n",
              "      <th>DateObserved</th>\n",
              "      <th>H</th>\n",
              "      <th>V</th>\n",
              "      <th>C</th>\n",
              "    </tr>\n",
              "  </thead>\n",
              "  <tbody>\n",
              "    <tr>\n",
              "      <th>0</th>\n",
              "      <td>921880</td>\n",
              "      <td>Batidora</td>\n",
              "      <td>01/09/2018 13:39:16</td>\n",
              "      <td>2018-09-01 13:39:16</td>\n",
              "      <td>0.18</td>\n",
              "      <td>0.14</td>\n",
              "      <td>0.1</td>\n",
              "    </tr>\n",
              "    <tr>\n",
              "      <th>1</th>\n",
              "      <td>921881</td>\n",
              "      <td>Batidora</td>\n",
              "      <td>01/09/2018 13:39:46</td>\n",
              "      <td>2018-09-01 13:39:46</td>\n",
              "      <td>0.17</td>\n",
              "      <td>0.15</td>\n",
              "      <td>0.1</td>\n",
              "    </tr>\n",
              "    <tr>\n",
              "      <th>2</th>\n",
              "      <td>921882</td>\n",
              "      <td>Batidora</td>\n",
              "      <td>01/09/2018 13:40:15</td>\n",
              "      <td>2018-09-01 13:40:15</td>\n",
              "      <td>0.17</td>\n",
              "      <td>0.17</td>\n",
              "      <td>0.1</td>\n",
              "    </tr>\n",
              "    <tr>\n",
              "      <th>3</th>\n",
              "      <td>921883</td>\n",
              "      <td>Batidora</td>\n",
              "      <td>01/09/2018 13:42:56</td>\n",
              "      <td>2018-09-01 13:42:56</td>\n",
              "      <td>0.17</td>\n",
              "      <td>0.16</td>\n",
              "      <td>0.1</td>\n",
              "    </tr>\n",
              "    <tr>\n",
              "      <th>4</th>\n",
              "      <td>921884</td>\n",
              "      <td>Batidora</td>\n",
              "      <td>01/09/2018 13:43:26</td>\n",
              "      <td>2018-09-01 13:43:26</td>\n",
              "      <td>0.17</td>\n",
              "      <td>0.19</td>\n",
              "      <td>0.1</td>\n",
              "    </tr>\n",
              "    <tr>\n",
              "      <th>5</th>\n",
              "      <td>921885</td>\n",
              "      <td>Batidora</td>\n",
              "      <td>01/09/2018 13:43:56</td>\n",
              "      <td>2018-09-01 13:43:56</td>\n",
              "      <td>0.20</td>\n",
              "      <td>0.18</td>\n",
              "      <td>0.1</td>\n",
              "    </tr>\n",
              "    <tr>\n",
              "      <th>6</th>\n",
              "      <td>921886</td>\n",
              "      <td>Batidora</td>\n",
              "      <td>01/09/2018 13:44:26</td>\n",
              "      <td>2018-09-01 13:44:26</td>\n",
              "      <td>0.18</td>\n",
              "      <td>0.17</td>\n",
              "      <td>0.1</td>\n",
              "    </tr>\n",
              "    <tr>\n",
              "      <th>7</th>\n",
              "      <td>921887</td>\n",
              "      <td>Batidora</td>\n",
              "      <td>01/09/2018 13:44:55</td>\n",
              "      <td>2018-09-01 13:44:55</td>\n",
              "      <td>0.18</td>\n",
              "      <td>0.17</td>\n",
              "      <td>0.1</td>\n",
              "    </tr>\n",
              "    <tr>\n",
              "      <th>8</th>\n",
              "      <td>921888</td>\n",
              "      <td>Batidora</td>\n",
              "      <td>01/09/2018 13:45:25</td>\n",
              "      <td>2018-09-01 13:45:25</td>\n",
              "      <td>0.22</td>\n",
              "      <td>0.16</td>\n",
              "      <td>0.1</td>\n",
              "    </tr>\n",
              "    <tr>\n",
              "      <th>9</th>\n",
              "      <td>921889</td>\n",
              "      <td>Batidora</td>\n",
              "      <td>01/09/2018 13:45:55</td>\n",
              "      <td>2018-09-01 13:45:55</td>\n",
              "      <td>0.18</td>\n",
              "      <td>0.16</td>\n",
              "      <td>0.1</td>\n",
              "    </tr>\n",
              "  </tbody>\n",
              "</table>\n",
              "</div>\n",
              "      <button class=\"colab-df-convert\" onclick=\"convertToInteractive('df-efd8077a-64e5-424d-a8d1-6d660e85a322')\"\n",
              "              title=\"Convert this dataframe to an interactive table.\"\n",
              "              style=\"display:none;\">\n",
              "        \n",
              "  <svg xmlns=\"http://www.w3.org/2000/svg\" height=\"24px\"viewBox=\"0 0 24 24\"\n",
              "       width=\"24px\">\n",
              "    <path d=\"M0 0h24v24H0V0z\" fill=\"none\"/>\n",
              "    <path d=\"M18.56 5.44l.94 2.06.94-2.06 2.06-.94-2.06-.94-.94-2.06-.94 2.06-2.06.94zm-11 1L8.5 8.5l.94-2.06 2.06-.94-2.06-.94L8.5 2.5l-.94 2.06-2.06.94zm10 10l.94 2.06.94-2.06 2.06-.94-2.06-.94-.94-2.06-.94 2.06-2.06.94z\"/><path d=\"M17.41 7.96l-1.37-1.37c-.4-.4-.92-.59-1.43-.59-.52 0-1.04.2-1.43.59L10.3 9.45l-7.72 7.72c-.78.78-.78 2.05 0 2.83L4 21.41c.39.39.9.59 1.41.59.51 0 1.02-.2 1.41-.59l7.78-7.78 2.81-2.81c.8-.78.8-2.07 0-2.86zM5.41 20L4 18.59l7.72-7.72 1.47 1.35L5.41 20z\"/>\n",
              "  </svg>\n",
              "      </button>\n",
              "      \n",
              "  <style>\n",
              "    .colab-df-container {\n",
              "      display:flex;\n",
              "      flex-wrap:wrap;\n",
              "      gap: 12px;\n",
              "    }\n",
              "\n",
              "    .colab-df-convert {\n",
              "      background-color: #E8F0FE;\n",
              "      border: none;\n",
              "      border-radius: 50%;\n",
              "      cursor: pointer;\n",
              "      display: none;\n",
              "      fill: #1967D2;\n",
              "      height: 32px;\n",
              "      padding: 0 0 0 0;\n",
              "      width: 32px;\n",
              "    }\n",
              "\n",
              "    .colab-df-convert:hover {\n",
              "      background-color: #E2EBFA;\n",
              "      box-shadow: 0px 1px 2px rgba(60, 64, 67, 0.3), 0px 1px 3px 1px rgba(60, 64, 67, 0.15);\n",
              "      fill: #174EA6;\n",
              "    }\n",
              "\n",
              "    [theme=dark] .colab-df-convert {\n",
              "      background-color: #3B4455;\n",
              "      fill: #D2E3FC;\n",
              "    }\n",
              "\n",
              "    [theme=dark] .colab-df-convert:hover {\n",
              "      background-color: #434B5C;\n",
              "      box-shadow: 0px 1px 3px 1px rgba(0, 0, 0, 0.15);\n",
              "      filter: drop-shadow(0px 1px 2px rgba(0, 0, 0, 0.3));\n",
              "      fill: #FFFFFF;\n",
              "    }\n",
              "  </style>\n",
              "\n",
              "      <script>\n",
              "        const buttonEl =\n",
              "          document.querySelector('#df-efd8077a-64e5-424d-a8d1-6d660e85a322 button.colab-df-convert');\n",
              "        buttonEl.style.display =\n",
              "          google.colab.kernel.accessAllowed ? 'block' : 'none';\n",
              "\n",
              "        async function convertToInteractive(key) {\n",
              "          const element = document.querySelector('#df-efd8077a-64e5-424d-a8d1-6d660e85a322');\n",
              "          const dataTable =\n",
              "            await google.colab.kernel.invokeFunction('convertToInteractive',\n",
              "                                                     [key], {});\n",
              "          if (!dataTable) return;\n",
              "\n",
              "          const docLinkHtml = 'Like what you see? Visit the ' +\n",
              "            '<a target=\"_blank\" href=https://colab.research.google.com/notebooks/data_table.ipynb>data table notebook</a>'\n",
              "            + ' to learn more about interactive tables.';\n",
              "          element.innerHTML = '';\n",
              "          dataTable['output_type'] = 'display_data';\n",
              "          await google.colab.output.renderOutput(dataTable, element);\n",
              "          const docLink = document.createElement('div');\n",
              "          docLink.innerHTML = docLinkHtml;\n",
              "          element.appendChild(docLink);\n",
              "        }\n",
              "      </script>\n",
              "    </div>\n",
              "  </div>\n",
              "  "
            ]
          },
          "metadata": {},
          "execution_count": 3
        }
      ]
    },
    {
      "cell_type": "markdown",
      "source": [
        "Selecciono los datos de la batidora y elimino las columnas inncecesarias"
      ],
      "metadata": {
        "id": "JZK1DlX3bM-r"
      }
    },
    {
      "cell_type": "code",
      "source": [
        "batidora = df.loc[df['Machine'] == 'Batidora']\n",
        "cols = ['Id', 'DateStr', 'Machine']\n",
        "batidora.drop(cols, axis=1, inplace=True)\n",
        "batidora = batidora.set_index('DateObserved')"
      ],
      "metadata": {
        "id": "493WkhjvamOP"
      },
      "execution_count": null,
      "outputs": []
    },
    {
      "cell_type": "markdown",
      "source": [
        "Compruebo los datos que son nulos"
      ],
      "metadata": {
        "id": "NQwl32QHb2SA"
      }
    },
    {
      "cell_type": "code",
      "source": [
        "batidora.isnull().sum()"
      ],
      "metadata": {
        "colab": {
          "base_uri": "https://localhost:8080/"
        },
        "id": "5EJwv1gQb5At",
        "outputId": "8b12d611-c742-4d14-bb48-04b1f279f13f"
      },
      "execution_count": null,
      "outputs": [
        {
          "output_type": "execute_result",
          "data": {
            "text/plain": [
              "H    28\n",
              "V     0\n",
              "C     7\n",
              "dtype: int64"
            ]
          },
          "metadata": {},
          "execution_count": 5
        }
      ]
    },
    {
      "cell_type": "markdown",
      "source": [
        "Agrupo el dataset en grupos de 15 minutos donde aplico la media Después de agrupar pongo los nulos a la media"
      ],
      "metadata": {
        "id": "AbcH63IkdfTK"
      }
    },
    {
      "cell_type": "code",
      "source": [
        "batidora_resample15m = batidora.resample('15min').mean()\n",
        "batidora_resample15m['H'].fillna(batidora_resample15m['H'].min(),inplace=True)\n",
        "batidora_resample15m['C'].fillna(batidora_resample15m['C'].min(),inplace=True)\n",
        "batidora_resample15m['V'].fillna(batidora_resample15m['V'].min(),inplace=True)\n",
        "\n",
        "batidora_resample15m.head()"
      ],
      "metadata": {
        "colab": {
          "base_uri": "https://localhost:8080/",
          "height": 238
        },
        "id": "SoyCOjAifTm_",
        "outputId": "b869b4e1-e212-475a-fb67-76ab27089907"
      },
      "execution_count": null,
      "outputs": [
        {
          "output_type": "execute_result",
          "data": {
            "text/plain": [
              "                            H         V         C\n",
              "DateObserved                                     \n",
              "2018-09-01 13:30:00  0.177500  0.166250  0.100000\n",
              "2018-09-01 13:45:00  0.181667  0.169000  0.100000\n",
              "2018-09-01 14:00:00  0.183871  0.166452  0.100323\n",
              "2018-09-01 14:15:00  0.190323  0.170968  0.102581\n",
              "2018-09-01 14:30:00  0.195806  0.183871  0.100000"
            ],
            "text/html": [
              "\n",
              "  <div id=\"df-de2c315b-651f-41a0-9d9e-77382806a859\">\n",
              "    <div class=\"colab-df-container\">\n",
              "      <div>\n",
              "<style scoped>\n",
              "    .dataframe tbody tr th:only-of-type {\n",
              "        vertical-align: middle;\n",
              "    }\n",
              "\n",
              "    .dataframe tbody tr th {\n",
              "        vertical-align: top;\n",
              "    }\n",
              "\n",
              "    .dataframe thead th {\n",
              "        text-align: right;\n",
              "    }\n",
              "</style>\n",
              "<table border=\"1\" class=\"dataframe\">\n",
              "  <thead>\n",
              "    <tr style=\"text-align: right;\">\n",
              "      <th></th>\n",
              "      <th>H</th>\n",
              "      <th>V</th>\n",
              "      <th>C</th>\n",
              "    </tr>\n",
              "    <tr>\n",
              "      <th>DateObserved</th>\n",
              "      <th></th>\n",
              "      <th></th>\n",
              "      <th></th>\n",
              "    </tr>\n",
              "  </thead>\n",
              "  <tbody>\n",
              "    <tr>\n",
              "      <th>2018-09-01 13:30:00</th>\n",
              "      <td>0.177500</td>\n",
              "      <td>0.166250</td>\n",
              "      <td>0.100000</td>\n",
              "    </tr>\n",
              "    <tr>\n",
              "      <th>2018-09-01 13:45:00</th>\n",
              "      <td>0.181667</td>\n",
              "      <td>0.169000</td>\n",
              "      <td>0.100000</td>\n",
              "    </tr>\n",
              "    <tr>\n",
              "      <th>2018-09-01 14:00:00</th>\n",
              "      <td>0.183871</td>\n",
              "      <td>0.166452</td>\n",
              "      <td>0.100323</td>\n",
              "    </tr>\n",
              "    <tr>\n",
              "      <th>2018-09-01 14:15:00</th>\n",
              "      <td>0.190323</td>\n",
              "      <td>0.170968</td>\n",
              "      <td>0.102581</td>\n",
              "    </tr>\n",
              "    <tr>\n",
              "      <th>2018-09-01 14:30:00</th>\n",
              "      <td>0.195806</td>\n",
              "      <td>0.183871</td>\n",
              "      <td>0.100000</td>\n",
              "    </tr>\n",
              "  </tbody>\n",
              "</table>\n",
              "</div>\n",
              "      <button class=\"colab-df-convert\" onclick=\"convertToInteractive('df-de2c315b-651f-41a0-9d9e-77382806a859')\"\n",
              "              title=\"Convert this dataframe to an interactive table.\"\n",
              "              style=\"display:none;\">\n",
              "        \n",
              "  <svg xmlns=\"http://www.w3.org/2000/svg\" height=\"24px\"viewBox=\"0 0 24 24\"\n",
              "       width=\"24px\">\n",
              "    <path d=\"M0 0h24v24H0V0z\" fill=\"none\"/>\n",
              "    <path d=\"M18.56 5.44l.94 2.06.94-2.06 2.06-.94-2.06-.94-.94-2.06-.94 2.06-2.06.94zm-11 1L8.5 8.5l.94-2.06 2.06-.94-2.06-.94L8.5 2.5l-.94 2.06-2.06.94zm10 10l.94 2.06.94-2.06 2.06-.94-2.06-.94-.94-2.06-.94 2.06-2.06.94z\"/><path d=\"M17.41 7.96l-1.37-1.37c-.4-.4-.92-.59-1.43-.59-.52 0-1.04.2-1.43.59L10.3 9.45l-7.72 7.72c-.78.78-.78 2.05 0 2.83L4 21.41c.39.39.9.59 1.41.59.51 0 1.02-.2 1.41-.59l7.78-7.78 2.81-2.81c.8-.78.8-2.07 0-2.86zM5.41 20L4 18.59l7.72-7.72 1.47 1.35L5.41 20z\"/>\n",
              "  </svg>\n",
              "      </button>\n",
              "      \n",
              "  <style>\n",
              "    .colab-df-container {\n",
              "      display:flex;\n",
              "      flex-wrap:wrap;\n",
              "      gap: 12px;\n",
              "    }\n",
              "\n",
              "    .colab-df-convert {\n",
              "      background-color: #E8F0FE;\n",
              "      border: none;\n",
              "      border-radius: 50%;\n",
              "      cursor: pointer;\n",
              "      display: none;\n",
              "      fill: #1967D2;\n",
              "      height: 32px;\n",
              "      padding: 0 0 0 0;\n",
              "      width: 32px;\n",
              "    }\n",
              "\n",
              "    .colab-df-convert:hover {\n",
              "      background-color: #E2EBFA;\n",
              "      box-shadow: 0px 1px 2px rgba(60, 64, 67, 0.3), 0px 1px 3px 1px rgba(60, 64, 67, 0.15);\n",
              "      fill: #174EA6;\n",
              "    }\n",
              "\n",
              "    [theme=dark] .colab-df-convert {\n",
              "      background-color: #3B4455;\n",
              "      fill: #D2E3FC;\n",
              "    }\n",
              "\n",
              "    [theme=dark] .colab-df-convert:hover {\n",
              "      background-color: #434B5C;\n",
              "      box-shadow: 0px 1px 3px 1px rgba(0, 0, 0, 0.15);\n",
              "      filter: drop-shadow(0px 1px 2px rgba(0, 0, 0, 0.3));\n",
              "      fill: #FFFFFF;\n",
              "    }\n",
              "  </style>\n",
              "\n",
              "      <script>\n",
              "        const buttonEl =\n",
              "          document.querySelector('#df-de2c315b-651f-41a0-9d9e-77382806a859 button.colab-df-convert');\n",
              "        buttonEl.style.display =\n",
              "          google.colab.kernel.accessAllowed ? 'block' : 'none';\n",
              "\n",
              "        async function convertToInteractive(key) {\n",
              "          const element = document.querySelector('#df-de2c315b-651f-41a0-9d9e-77382806a859');\n",
              "          const dataTable =\n",
              "            await google.colab.kernel.invokeFunction('convertToInteractive',\n",
              "                                                     [key], {});\n",
              "          if (!dataTable) return;\n",
              "\n",
              "          const docLinkHtml = 'Like what you see? Visit the ' +\n",
              "            '<a target=\"_blank\" href=https://colab.research.google.com/notebooks/data_table.ipynb>data table notebook</a>'\n",
              "            + ' to learn more about interactive tables.';\n",
              "          element.innerHTML = '';\n",
              "          dataTable['output_type'] = 'display_data';\n",
              "          await google.colab.output.renderOutput(dataTable, element);\n",
              "          const docLink = document.createElement('div');\n",
              "          docLink.innerHTML = docLinkHtml;\n",
              "          element.appendChild(docLink);\n",
              "        }\n",
              "      </script>\n",
              "    </div>\n",
              "  </div>\n",
              "  "
            ]
          },
          "metadata": {},
          "execution_count": 6
        }
      ]
    },
    {
      "cell_type": "markdown",
      "source": [
        "# Isolation Forest"
      ],
      "metadata": {
        "id": "zJY9A4Sq4iMh"
      }
    },
    {
      "cell_type": "code",
      "source": [
        "#Take useful feature and standardize them\n",
        "#determinamos el outlaier en est caso 1 %\n",
        "outliers_fraction=0.01\n",
        "#extraemos los datos, donde en este caso son importante las 3\n",
        "data = batidora_resample15m[['H','V','C']]\n",
        "#entrenamos un arbol con 100 arboles sin que sea paralelo con un random state igual a 42\n",
        "#train isolation forest \n",
        "model = IsolationForest(contamination = outliers_fraction, n_estimators=1000, max_features=1.0, bootstrap=False, n_jobs=-1, random_state=42,verbose=1)\n",
        "model.fit(data)"
      ],
      "metadata": {
        "colab": {
          "base_uri": "https://localhost:8080/"
        },
        "id": "xEVUQZlr9Iqf",
        "outputId": "f1740585-96b2-45e0-8d38-2e20febf2665"
      },
      "execution_count": null,
      "outputs": [
        {
          "output_type": "stream",
          "name": "stderr",
          "text": [
            "[Parallel(n_jobs=2)]: Using backend ThreadingBackend with 2 concurrent workers.\n",
            "[Parallel(n_jobs=2)]: Done   2 out of   2 | elapsed:    2.9s remaining:    0.0s\n",
            "[Parallel(n_jobs=2)]: Done   2 out of   2 | elapsed:    2.9s finished\n"
          ]
        },
        {
          "output_type": "execute_result",
          "data": {
            "text/plain": [
              "IsolationForest(contamination=0.01, n_estimators=1000, n_jobs=-1,\n",
              "                random_state=42, verbose=1)"
            ]
          },
          "metadata": {},
          "execution_count": 7
        }
      ]
    },
    {
      "cell_type": "markdown",
      "source": [
        "#Guardo el modelo"
      ],
      "metadata": {
        "id": "8GvY-iLyxrT0"
      }
    },
    {
      "cell_type": "code",
      "source": [
        "#esto me genera un archivo que se llama 'isolation_forest.pickle'\n",
        "import pickle\n",
        "filename = 'isolation_forest.pickle'\n",
        "pickle.dump(model, open(filename, 'wb'))"
      ],
      "metadata": {
        "id": "T4qEPgc5xq7p"
      },
      "execution_count": null,
      "outputs": []
    },
    {
      "cell_type": "code",
      "source": [
        "#genero una funcion para predecir anomalias pasandole el modelo y los datos, en nuestro caso\n",
        "#sera un registro que tenga la fecha direccion vertical horizontal y cprriente\n",
        "#creamos un nuevo dataframe por que la prediccion requiere de un dataframe \n",
        "def predecir(model, datos):\n",
        "  #nuevo_dato={'DateObserved':[now], 'H':[0.2], 'V':[0.2], 'C':[0.11]}\n",
        "  df = pd.DataFrame(datos)\n",
        "  df = df.set_index('DateObserved')\n",
        "  #realizo prediccion y calculo distancia\n",
        "  iso_prediction = model.predict(df)\n",
        "  iso_core = model.score_samples(df) #mide la distancia\n",
        "  #calculo si es una anomalia y su probabilidad\n",
        "  anomaly =(iso_prediction[0]==-1)# si eso es igul a -1 es una anomalia\n",
        "  probabilty = iso_core[0] *100*-1*anomaly #si es anomalia que saque la probabbilidad \n",
        "  f'anomaly {anomaly} probabilidad {probabilty}'\n",
        "  return anomaly, probabilty"
      ],
      "metadata": {
        "id": "sXHDYf5JynrI"
      },
      "execution_count": null,
      "outputs": []
    },
    {
      "cell_type": "code",
      "source": [
        "#creo un dato\n",
        "from datetime import datetime \n",
        "from datetime import date \n",
        "now = datetime.now()\n",
        "today = date.today()\n",
        "nuevo_dato = {'DateObserved':[now], 'H':[0.2], 'V':[0.2], 'C':[0.11]}\n",
        "predecir(model, nuevo_dato)\n"
      ],
      "metadata": {
        "colab": {
          "base_uri": "https://localhost:8080/"
        },
        "id": "lL2jsSei0koC",
        "outputId": "477dd4ce-919e-4e9e-fc26-45a9f213b10e"
      },
      "execution_count": null,
      "outputs": [
        {
          "output_type": "execute_result",
          "data": {
            "text/plain": [
              "(False, 0.0)"
            ]
          },
          "metadata": {},
          "execution_count": 21
        }
      ]
    },
    {
      "cell_type": "code",
      "source": [
        "filename = 'isolation_forest.pickle'\n",
        "model1 = pickle.load(open(filename, 'rb'))\n",
        "predecir(model1, nuevo_dato)"
      ],
      "metadata": {
        "id": "lhAnER7A2Ydt",
        "colab": {
          "base_uri": "https://localhost:8080/"
        },
        "outputId": "10e3267d-dc93-4f20-ea45-3db5cb6bd80e"
      },
      "execution_count": null,
      "outputs": [
        {
          "output_type": "execute_result",
          "data": {
            "text/plain": [
              "(False, 0.0)"
            ]
          },
          "metadata": {},
          "execution_count": 19
        }
      ]
    },
    {
      "cell_type": "code",
      "source": [
        ""
      ],
      "metadata": {
        "id": "FIt9Sn78UpaL"
      },
      "execution_count": null,
      "outputs": []
    }
  ]
}